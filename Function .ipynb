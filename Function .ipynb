{
 "cells": [
  {
   "cell_type": "markdown",
   "id": "01f3e7ae",
   "metadata": {},
   "source": [
    "# Function"
   ]
  },
  {
   "cell_type": "code",
   "execution_count": 1,
   "id": "16902ffe",
   "metadata": {},
   "outputs": [],
   "source": [
    "def wish():\n",
    "    print(\"hello\")\n",
    "    print(\"how are are\")\n",
    "    print(\"welcome\")\n",
    "    "
   ]
  },
  {
   "cell_type": "code",
   "execution_count": 2,
   "id": "0827fcdf",
   "metadata": {},
   "outputs": [
    {
     "name": "stdout",
     "output_type": "stream",
     "text": [
      "hello\n",
      "how are are\n",
      "welcome\n"
     ]
    }
   ],
   "source": [
    "wish()"
   ]
  },
  {
   "cell_type": "markdown",
   "id": "7396e67a",
   "metadata": {},
   "source": [
    "function without prarameter"
   ]
  },
  {
   "cell_type": "code",
   "execution_count": 8,
   "id": "888200f9",
   "metadata": {},
   "outputs": [
    {
     "name": "stdout",
     "output_type": "stream",
     "text": [
      "the addition is 5\n"
     ]
    }
   ],
   "source": [
    "def add():\n",
    "    a,b=2,3\n",
    "    c=a+b\n",
    "    print(\"the addition is\",c)\n",
    "add()    "
   ]
  },
  {
   "cell_type": "markdown",
   "id": "8cc63746",
   "metadata": {},
   "source": [
    "Function with parameter"
   ]
  },
  {
   "cell_type": "code",
   "execution_count": 5,
   "id": "cfb86174",
   "metadata": {},
   "outputs": [],
   "source": [
    "def add(a,b,d):\n",
    "    c=a+b+d\n",
    "    print(\"the addition is\",c)\n",
    "    "
   ]
  },
  {
   "cell_type": "code",
   "execution_count": 6,
   "id": "a6396bff",
   "metadata": {},
   "outputs": [
    {
     "name": "stdout",
     "output_type": "stream",
     "text": [
      "the addition is 15\n"
     ]
    }
   ],
   "source": [
    "add(4,5,6)\n"
   ]
  },
  {
   "cell_type": "code",
   "execution_count": 16,
   "id": "e0c0ab89",
   "metadata": {},
   "outputs": [],
   "source": [
    "def max(a,b,c):\n",
    "    if(a>b):\n",
    "        print(\"the maximum number\",b)\n",
    "    elif(b>c):    \n",
    "        print(\"the maximum number\",c)\n",
    "    else:    \n",
    "        print(\"the maximum number\",b)\n",
    "    "
   ]
  },
  {
   "cell_type": "code",
   "execution_count": 11,
   "id": "6d2000f8",
   "metadata": {},
   "outputs": [
    {
     "name": "stdout",
     "output_type": "stream",
     "text": [
      "the maximum number 3\n"
     ]
    }
   ],
   "source": [
    "max(1,2,3)"
   ]
  },
  {
   "cell_type": "code",
   "execution_count": 13,
   "id": "6a350ee7",
   "metadata": {},
   "outputs": [
    {
     "name": "stdout",
     "output_type": "stream",
     "text": [
      "the maximum number 9\n"
     ]
    }
   ],
   "source": [
    "max(9,8,7)"
   ]
  },
  {
   "cell_type": "code",
   "execution_count": 15,
   "id": "75cdd59f",
   "metadata": {},
   "outputs": [
    {
     "name": "stdout",
     "output_type": "stream",
     "text": [
      "the maximum number 5\n"
     ]
    }
   ],
   "source": [
    "max(5,2,7)"
   ]
  },
  {
   "cell_type": "code",
   "execution_count": 17,
   "id": "22478f7d",
   "metadata": {},
   "outputs": [
    {
     "name": "stdout",
     "output_type": "stream",
     "text": [
      "the maximum number 5\n"
     ]
    }
   ],
   "source": [
    "max(5,2,7)"
   ]
  },
  {
   "cell_type": "code",
   "execution_count": 18,
   "id": "000c15d7",
   "metadata": {},
   "outputs": [
    {
     "name": "stdout",
     "output_type": "stream",
     "text": [
      "hello\n"
     ]
    }
   ],
   "source": [
    "def name_of_function():\n",
    "    print(\"hello\")\n",
    "name_of_function()    "
   ]
  },
  {
   "cell_type": "code",
   "execution_count": 19,
   "id": "21145d1a",
   "metadata": {},
   "outputs": [
    {
     "name": "stdout",
     "output_type": "stream",
     "text": [
      "28.259999999999998\n"
     ]
    }
   ],
   "source": [
    "def area_of_circle(r):\n",
    "    area=3.14*r*r\n",
    "    print(area)\n",
    "area_of_circle(3)    "
   ]
  },
  {
   "cell_type": "code",
   "execution_count": 21,
   "id": "a3ae0cea",
   "metadata": {},
   "outputs": [],
   "source": [
    "def perimeter_of_squre(side):\n",
    "    peri=4*side\n",
    "    print(peri)\n",
    "s=8\n"
   ]
  },
  {
   "cell_type": "code",
   "execution_count": 22,
   "id": "6ee15dc9",
   "metadata": {},
   "outputs": [
    {
     "name": "stdout",
     "output_type": "stream",
     "text": [
      "32\n"
     ]
    }
   ],
   "source": [
    "perimeter_of_squre(s)"
   ]
  },
  {
   "cell_type": "code",
   "execution_count": 23,
   "id": "9a5b4aa4",
   "metadata": {},
   "outputs": [],
   "source": [
    "def evodd(n):\n",
    "    if(n%2==0):\n",
    "        print(n,\"number is even\")\n",
    "    else:\n",
    "        print(n,\"number is odd\")"
   ]
  },
  {
   "cell_type": "code",
   "execution_count": 25,
   "id": "e52c670d",
   "metadata": {},
   "outputs": [
    {
     "name": "stdout",
     "output_type": "stream",
     "text": [
      "8 number is even\n"
     ]
    }
   ],
   "source": [
    "evodd(8)"
   ]
  },
  {
   "cell_type": "code",
   "execution_count": 35,
   "id": "5572e31d",
   "metadata": {},
   "outputs": [],
   "source": [
    "def mult(a,b):\n",
    "    m=a*b\n",
    "    return m\n"
   ]
  },
  {
   "cell_type": "code",
   "execution_count": null,
   "id": "ed33df63",
   "metadata": {},
   "outputs": [],
   "source": [
    "\n",
    "def evodd(n):\n",
    "    '''i have created even odd function '''\n",
    "    if(n%2==0):\n",
    "        print(n,\"number is even\")\n",
    "    else:\n",
    "        print(n,\"number is odd\")\n",
    "    "
   ]
  },
  {
   "cell_type": "code",
   "execution_count": 34,
   "id": "8c425925",
   "metadata": {},
   "outputs": [
    {
     "name": "stdout",
     "output_type": "stream",
     "text": [
      "i have created even odd function \n"
     ]
    }
   ],
   "source": [
    "print(evodd.__doc__)"
   ]
  },
  {
   "cell_type": "code",
   "execution_count": null,
   "id": "d73847ef",
   "metadata": {},
   "outputs": [],
   "source": [
    "\n",
    "##function Definction\n",
    "def graet():\n",
    "    print(\"hello\")\n",
    "    print(\"good morning\")\n",
    "##function calling    \n",
    "graet()    "
   ]
  },
  {
   "cell_type": "code",
   "execution_count": 3,
   "id": "61af84ab",
   "metadata": {},
   "outputs": [
    {
     "name": "stdout",
     "output_type": "stream",
     "text": [
      "the addition of two number is: 14\n"
     ]
    }
   ],
   "source": [
    "#function with parameter\n",
    "def add(a,b):\n",
    "    c=a+b\n",
    "    print(\"the addition of two number is:\",c)\n",
    "add(5,9)    "
   ]
  },
  {
   "cell_type": "code",
   "execution_count": 4,
   "id": "e312f3a8",
   "metadata": {},
   "outputs": [
    {
     "name": "stdout",
     "output_type": "stream",
     "text": [
      "the addition of two number is: 10\n",
      "the subtration of two number is: 2\n",
      "the multification of two number is: 24\n",
      "the division of two number is: 1.5\n",
      "the floor division of two number is: 1\n",
      "10 2 24 1.5 1\n"
     ]
    }
   ],
   "source": [
    "def add_sub_mul_div_floordivi(a,b):\n",
    "    c=a+b\n",
    "    d=a-b\n",
    "    f=a*b\n",
    "    g=a/b\n",
    "    k=a//b\n",
    "    print(\"the addition of two number is:\",c)\n",
    "    print(\"the subtration of two number is:\",d)\n",
    "    print(\"the multification of two number is:\",f)\n",
    "    print(\"the division of two number is:\",g)\n",
    "    print(\"the floor division of two number is:\",k)\n",
    "    return c,d,f,g,k\n",
    "result1,result2,result3,result4,result5=add_sub_mul_div_floordivi(6,4)\n",
    "print(result1,result2,result3,result4,result5)\n",
    "    "
   ]
  },
  {
   "cell_type": "code",
   "execution_count": 1,
   "id": "c9ce592d",
   "metadata": {},
   "outputs": [],
   "source": [
    "def max_of_two(x, y):\n",
    "    # Check if x is greater than y\n",
    "    if x > y:\n",
    "        # If x is greater, return x\n",
    "        return x\n",
    "    # If y is greater or equal to x, return y\n",
    "    return y\n"
   ]
  },
  {
   "cell_type": "code",
   "execution_count": 3,
   "id": "61aeb212",
   "metadata": {},
   "outputs": [
    {
     "data": {
      "text/plain": [
       "12"
      ]
     },
     "execution_count": 3,
     "metadata": {},
     "output_type": "execute_result"
    }
   ],
   "source": [
    "def max_of_two(a, b):\n",
    "    # Check if x is greater than y\n",
    "    if a> b:\n",
    "        # If x is greater, return x\n",
    "        return a\n",
    "    # If y is greater or equal to x, return y\n",
    "    return b"
   ]
  },
  {
   "cell_type": "markdown",
   "id": "208e88a1",
   "metadata": {},
   "source": [
    "# Lambda Function\n",
    "lambda function is known as anonymous function(with out function name)\n",
    "the expression is evaluated and return."
   ]
  },
  {
   "cell_type": "code",
   "execution_count": 8,
   "id": "d1a335c0",
   "metadata": {},
   "outputs": [
    {
     "name": "stdout",
     "output_type": "stream",
     "text": [
      "odd Number [11, 33]\n"
     ]
    }
   ],
   "source": [
    "number=[11,22,20,33,44,60,80,40,100,120]\n",
    "odd=list(filter(lambda x: x%2!=0,number))\n",
    "print(\"odd Number\",odd)"
   ]
  },
  {
   "cell_type": "code",
   "execution_count": 9,
   "id": "38e33dd9",
   "metadata": {},
   "outputs": [
    {
     "name": "stdout",
     "output_type": "stream",
     "text": [
      "even number [22, 20, 44, 60, 80, 40, 100, 120]\n"
     ]
    }
   ],
   "source": [
    "number=[11,22,20,33,44,60,80,40,100,120]\n",
    "evenn=list(filter(lambda x: x%2==0,number))\n",
    "print(\"even number\",evenn)"
   ]
  },
  {
   "cell_type": "code",
   "execution_count": 1,
   "id": "fc22c50b",
   "metadata": {},
   "outputs": [
    {
     "name": "stdout",
     "output_type": "stream",
     "text": [
      "\n"
     ]
    }
   ],
   "source": [
    "city=[\"mumbai\",\"delhi\",\"kota\",\"manipur\",\"muzzafurpur\"]\n",
    "sort=sorted(city, key=lambda x: len(city))\n",
    "print()"
   ]
  },
  {
   "cell_type": "markdown",
   "id": "c6170a3a",
   "metadata": {},
   "source": [
    "# map function \n",
    "map function double all no useing maps\n"
   ]
  },
  {
   "cell_type": "code",
   "execution_count": 2,
   "id": "23c1edab",
   "metadata": {},
   "outputs": [
    {
     "ename": "NameError",
     "evalue": "name 'no' is not defined",
     "output_type": "error",
     "traceback": [
      "\u001b[1;31m---------------------------------------------------------------------------\u001b[0m",
      "\u001b[1;31mNameError\u001b[0m                                 Traceback (most recent call last)",
      "Cell \u001b[1;32mIn[2], line 5\u001b[0m\n\u001b[0;32m      3\u001b[0m \u001b[38;5;66;03m#we double all no useing map function\u001b[39;00m\n\u001b[0;32m      4\u001b[0m n\u001b[38;5;241m=\u001b[39m(\u001b[38;5;241m1\u001b[39m,\u001b[38;5;241m2\u001b[39m,\u001b[38;5;241m3\u001b[39m,\u001b[38;5;241m4\u001b[39m)\n\u001b[1;32m----> 5\u001b[0m result\u001b[38;5;241m=\u001b[39m\u001b[38;5;28mmap\u001b[39m(addition,\u001b[43mno\u001b[49m)\n\u001b[0;32m      6\u001b[0m \u001b[38;5;28mprint\u001b[39m(\u001b[38;5;28mlist\u001b[39m(result))\n",
      "\u001b[1;31mNameError\u001b[0m: name 'no' is not defined"
     ]
    }
   ],
   "source": [
    "def addition(n):\n",
    "    return(n+n)\n",
    "#we double all no useing map function\n",
    "n=(1,2,3,4)\n",
    "result=map(addition,no)\n",
    "print(list(result))"
   ]
  },
  {
   "cell_type": "code",
   "execution_count": null,
   "id": "422ed3b4",
   "metadata": {},
   "outputs": [],
   "source": []
  },
  {
   "cell_type": "code",
   "execution_count": null,
   "id": "492ee518",
   "metadata": {},
   "outputs": [],
   "source": []
  }
 ],
 "metadata": {
  "kernelspec": {
   "display_name": "Python 3 (ipykernel)",
   "language": "python",
   "name": "python3"
  },
  "language_info": {
   "codemirror_mode": {
    "name": "ipython",
    "version": 3
   },
   "file_extension": ".py",
   "mimetype": "text/x-python",
   "name": "python",
   "nbconvert_exporter": "python",
   "pygments_lexer": "ipython3",
   "version": "3.10.9"
  }
 },
 "nbformat": 4,
 "nbformat_minor": 5
}
